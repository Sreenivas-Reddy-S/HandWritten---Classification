{
  "nbformat": 4,
  "nbformat_minor": 0,
  "metadata": {
    "colab": {
      "name": "Handwritten.ipynb",
      "provenance": []
    },
    "kernelspec": {
      "name": "python3",
      "display_name": "Python 3"
    },
    "language_info": {
      "name": "python"
    }
  },
  "cells": [
    {
      "cell_type": "code",
      "execution_count": null,
      "metadata": {
        "id": "HDdPl7kOKHtv"
      },
      "outputs": [],
      "source": [
        "import jupyter"
      ]
    },
    {
      "cell_type": "code",
      "source": [
        "import tensorflow as tf\n",
        "from tensorflow import keras\n",
        "import numpy as np\n",
        "import seaborn as sn\n",
        "import matplotlib.pyplot as plt\n",
        "%matplotlib inline"
      ],
      "metadata": {
        "id": "Vmt9EmG6KTtk"
      },
      "execution_count": null,
      "outputs": []
    },
    {
      "cell_type": "code",
      "source": [
        "(X_train, Y_train), (X_test, Y_test) = keras.datasets.mnist.load_data()"
      ],
      "metadata": {
        "id": "bf6BUkBYKjSw"
      },
      "execution_count": null,
      "outputs": []
    },
    {
      "cell_type": "code",
      "source": [
        "X_train = X_train/255\n",
        "X_test = X_test/255"
      ],
      "metadata": {
        "id": "Ywsbfm6MtSgo"
      },
      "execution_count": null,
      "outputs": []
    },
    {
      "cell_type": "code",
      "source": [
        "plt.matshow(X_train[2])"
      ],
      "metadata": {
        "colab": {
          "base_uri": "https://localhost:8080/",
          "height": 292
        },
        "id": "sZOTxOe1K2BX",
        "outputId": "c33c2675-97b5-4df5-ca8c-a0cb419e01a6"
      },
      "execution_count": null,
      "outputs": [
        {
          "output_type": "execute_result",
          "data": {
            "text/plain": [
              "<matplotlib.image.AxesImage at 0x7f6ccc3d8590>"
            ]
          },
          "metadata": {},
          "execution_count": 18
        },
        {
          "output_type": "display_data",
          "data": {
            "text/plain": [
              "<Figure size 288x288 with 1 Axes>"
            ],
            "image/png": "[encoded data removed]"
          },
          "metadata": {
            "needs_background": "light"
          }
        }
      ]
    },
    {
      "cell_type": "code",
      "source": [
        "model = keras.Sequential([\n",
        "        keras.layers.Flatten(input_shape = (28,28)),\n",
        "        keras.layers.Dense(100, activation = 'relu'),\n",
        "        keras.layers.Dense(100, activation = 'sigmoid')\n",
        "])\n",
        "model.compile(optimizer = 'adam',\n",
        "              loss = 'sparse_categorical_crossentropy',\n",
        "              metrics = ['accuracy'])\n",
        "model.fit(X_train,Y_train, epochs = 10)"
      ],
      "metadata": {
        "colab": {
          "base_uri": "https://localhost:8080/"
        },
        "id": "mY627qkwn1Lp",
        "outputId": "a60711ea-1b6b-4b52-a013-b1718fd9aba9"
      },
      "execution_count": null,
      "outputs": [
        {
          "output_type": "stream",
          "name": "stdout",
          "text": [
            "Epoch 1/10\n",
            "1875/1875 [==============================] - 4s 2ms/step - loss: 0.3247 - accuracy: 0.9117\n",
            "Epoch 2/10\n",
            "1875/1875 [==============================] - 4s 2ms/step - loss: 0.1424 - accuracy: 0.9588\n",
            "Epoch 3/10\n",
            "1875/1875 [==============================] - 4s 2ms/step - loss: 0.0990 - accuracy: 0.9714\n",
            "Epoch 4/10\n",
            "1875/1875 [==============================] - 4s 2ms/step - loss: 0.0762 - accuracy: 0.9774\n",
            "Epoch 5/10\n",
            "1875/1875 [==============================] - 4s 2ms/step - loss: 0.0610 - accuracy: 0.9812\n",
            "Epoch 6/10\n",
            "1875/1875 [==============================] - 3s 2ms/step - loss: 0.0498 - accuracy: 0.9850\n",
            "Epoch 7/10\n",
            "1875/1875 [==============================] - 4s 2ms/step - loss: 0.0402 - accuracy: 0.9876\n",
            "Epoch 8/10\n",
            "1875/1875 [==============================] - 4s 2ms/step - loss: 0.0330 - accuracy: 0.9899\n",
            "Epoch 9/10\n",
            "1875/1875 [==============================] - 4s 2ms/step - loss: 0.0281 - accuracy: 0.9913\n",
            "Epoch 10/10\n",
            "1875/1875 [==============================] - 4s 2ms/step - loss: 0.0238 - accuracy: 0.9929\n"
          ]
        },
        {
          "output_type": "execute_result",
          "data": {
            "text/plain": [
              "<keras.callbacks.History at 0x7f6ccc2623d0>"
            ]
          },
          "metadata": {},
          "execution_count": 19
        }
      ]
    },
    {
      "cell_type": "code",
      "source": [
        "model.evaluate(X_test,Y_test)"
      ],
      "metadata": {
        "colab": {
          "base_uri": "https://localhost:8080/"
        },
        "id": "BhasnustuVtg",
        "outputId": "b6687594-1654-4e14-eb5b-6292ed1939c6"
      },
      "execution_count": null,
      "outputs": [
        {
          "output_type": "stream",
          "name": "stdout",
          "text": [
            "313/313 [==============================] - 1s 1ms/step - loss: 0.0878 - accuracy: 0.9757\n"
          ]
        },
        {
          "output_type": "execute_result",
          "data": {
            "text/plain": [
              "[0.08779632300138474, 0.9757000207901001]"
            ]
          },
          "metadata": {},
          "execution_count": 20
        }
      ]
    },
    {
      "cell_type": "code",
      "source": [
        "plt.matshow(X_test[4])"
      ],
      "metadata": {
        "colab": {
          "base_uri": "https://localhost:8080/",
          "height": 292
        },
        "id": "tI7PQ5Ykt13n",
        "outputId": "26b3da91-63fd-4c01-e096-54b1efe5c01a"
      },
      "execution_count": null,
      "outputs": [
        {
          "output_type": "execute_result",
          "data": {
            "text/plain": [
              "<matplotlib.image.AxesImage at 0x7f6ccf446350>"
            ]
          },
          "metadata": {},
          "execution_count": 23
        },
        {
          "output_type": "display_data",
          "data": {
            "text/plain": [
              "<Figure size 288x288 with 1 Axes>"
            ],
            "image/png": "[encoded data removed]"
          },
          "metadata": {
            "needs_background": "light"
          }
        }
      ]
    },
    {
      "cell_type": "code",
      "source": [
        "Y_predicted = model.predict(X_test)\n",
        "Y_predicted[4]"
      ],
      "metadata": {
        "colab": {
          "base_uri": "https://localhost:8080/"
        },
        "id": "h_PS88M3vm7n",
        "outputId": "acb3ad65-66ae-4eb1-cd9e-641320960223"
      },
      "execution_count": null,
      "outputs": [
        {
          "output_type": "execute_result",
          "data": {
            "text/plain": [
              "array([2.0457566e-02, 3.5944350e-07, 5.9527665e-02, 3.9541069e-06,\n",
              "       9.9998701e-01, 2.2439361e-03, 5.2217901e-02, 2.4691644e-01,\n",
              "       1.6068846e-02, 9.9739468e-01, 1.5565668e-10, 5.6714550e-10,\n",
              "       1.6451076e-09, 5.4022731e-10, 7.1362249e-10, 2.3988081e-10,\n",
              "       3.8637843e-10, 8.4470708e-11, 2.4975794e-10, 1.0329024e-09,\n",
              "       7.7723017e-10, 2.9081453e-09, 7.5939943e-10, 8.6199403e-10,\n",
              "       7.4897338e-10, 4.1053139e-09, 2.3065726e-10, 3.0276632e-09,\n",
              "       8.2669155e-10, 9.6933606e-10, 1.9175556e-10, 9.1463659e-10,\n",
              "       1.9186870e-09, 1.5246880e-10, 1.5137819e-09, 1.9509698e-09,\n",
              "       1.3636547e-09, 3.8405443e-10, 4.2659837e-10, 5.4788335e-10,\n",
              "       1.7371922e-09, 3.6724820e-10, 2.0478411e-10, 2.3308344e-10,\n",
              "       8.6756252e-10, 7.9257173e-10, 3.3274059e-10, 9.9646746e-10,\n",
              "       3.4433773e-10, 1.0938315e-09, 1.0048902e-09, 4.8650534e-10,\n",
              "       9.2978103e-10, 1.1450887e-09, 5.9154165e-10, 1.1810659e-09,\n",
              "       3.2493100e-10, 1.6442450e-09, 1.0579437e-09, 1.2470023e-09,\n",
              "       7.2634648e-11, 8.5092028e-10, 1.0240241e-09, 5.9811628e-10,\n",
              "       7.2316875e-10, 3.8255008e-09, 8.2704638e-10, 3.9625470e-10,\n",
              "       3.8202777e-10, 1.4045094e-10, 2.3380402e-09, 1.8489202e-10,\n",
              "       4.1125220e-10, 2.5229565e-09, 1.3191710e-09, 2.9873246e-10,\n",
              "       1.5240396e-10, 4.2413359e-10, 6.5836725e-10, 1.7255473e-10,\n",
              "       1.8961166e-09, 9.6252117e-10, 4.1691441e-09, 1.0203276e-09,\n",
              "       3.7310857e-09, 4.9673993e-10, 3.5527039e-09, 3.0947586e-10,\n",
              "       2.8001884e-10, 5.1974264e-10, 2.3324354e-10, 9.7169994e-10,\n",
              "       4.0592096e-10, 1.2266270e-10, 1.7217905e-09, 4.5377480e-10,\n",
              "       7.4374576e-11, 6.5451716e-10, 1.4541386e-09, 1.0827863e-09],\n",
              "      dtype=float32)"
            ]
          },
          "metadata": {},
          "execution_count": 26
        }
      ]
    },
    {
      "cell_type": "code",
      "source": [
        "np.argmax(Y_predicted[4])"
      ],
      "metadata": {
        "colab": {
          "base_uri": "https://localhost:8080/"
        },
        "id": "WxV6cpe9wnt1",
        "outputId": "8acc9a5b-3315-47f1-c098-60f5f33fe5d8"
      },
      "execution_count": null,
      "outputs": [
        {
          "output_type": "execute_result",
          "data": {
            "text/plain": [
              "4"
            ]
          },
          "metadata": {},
          "execution_count": 28
        }
      ]
    },
    {
      "cell_type": "code",
      "source": [
        "Y_predicted_all = [np.argmax(i) for i in Y_predicted]"
      ],
      "metadata": {
        "id": "VEKPIg5gxWdq"
      },
      "execution_count": null,
      "outputs": []
    },
    {
      "cell_type": "code",
      "source": [
        "cm = tf.math.confusion_matrix(labels = Y_test, predictions = Y_predicted_all)\n",
        "cm"
      ],
      "metadata": {
        "colab": {
          "base_uri": "https://localhost:8080/"
        },
        "id": "0gTV7Mgtww-U",
        "outputId": "530626e6-68ec-4484-8422-7f3ebec8bf9e"
      },
      "execution_count": null,
      "outputs": [
        {
          "output_type": "execute_result",
          "data": {
            "text/plain": [
              "<tf.Tensor: shape=(10, 10), dtype=int32, numpy=\n",
              "array([[ 971,    0,    0,    1,    0,    1,    3,    1,    3,    0],\n",
              "       [   0, 1126,    3,    0,    0,    1,    2,    1,    2,    0],\n",
              "       [   8,    2,  997,    4,    2,    0,    3,    4,    9,    3],\n",
              "       [   0,    1,    2,  994,    0,    1,    0,    5,    4,    3],\n",
              "       [   4,    0,    2,    1,  928,    2,    5,    4,    0,   36],\n",
              "       [   1,    0,    0,   10,    0,  863,    7,    2,    6,    3],\n",
              "       [   3,    2,    1,    1,    1,    2,  945,    0,    3,    0],\n",
              "       [   1,    4,   10,    2,    0,    0,    0, 1001,    1,    9],\n",
              "       [   3,    0,    4,    5,    1,    4,    2,    3,  947,    5],\n",
              "       [   2,    2,    0,    7,    3,    1,    0,    8,    1,  985]],\n",
              "      dtype=int32)>"
            ]
          },
          "metadata": {},
          "execution_count": 36
        }
      ]
    },
    {
      "cell_type": "code",
      "source": [
        "plt.figure(figsize = (10,7))\n",
        "sn.heatmap(cm, annot = True, fmt = 'd')\n",
        "plt.xlabel('Predicted')\n",
        "plt.ylabel('Truth')"
      ],
      "metadata": {
        "colab": {
          "base_uri": "https://localhost:8080/",
          "height": 459
        },
        "id": "kWGy0MZ8xnKv",
        "outputId": "eae21199-f8ff-41a3-912b-7de59b2a1505"
      },
      "execution_count": null,
      "outputs": [
        {
          "output_type": "execute_result",
          "data": {
            "text/plain": [
              "Text(69.0, 0.5, 'Truth')"
            ]
          },
          "metadata": {},
          "execution_count": 38
        },
        {
          "output_type": "display_data",
          "data": {
            "text/plain": [
              "<Figure size 720x504 with 2 Axes>"
            ],
            "image/png": "[encoded data removed]"
          },
          "metadata": {
            "needs_background": "light"
          }
        }
      ]
    }
  ]
}